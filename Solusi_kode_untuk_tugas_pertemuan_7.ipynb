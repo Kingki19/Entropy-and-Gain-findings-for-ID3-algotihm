{
  "nbformat": 4,
  "nbformat_minor": 0,
  "metadata": {
    "colab": {
      "provenance": [],
      "toc_visible": true
    },
    "kernelspec": {
      "name": "python3",
      "display_name": "Python 3"
    },
    "language_info": {
      "name": "python"
    }
  },
  "cells": [
    {
      "cell_type": "markdown",
      "source": [
        "**Nama**: Muhammad Rizqi  \n",
        "**NIM**: 4612422028\n",
        "\n",
        "**Tugas**:\n",
        "Mahasiswa disuruh membuat pembuktian step-by-step dari proses penghitungan PDF ini: [https://drive.google.com/drive/u/1/folders/16ZpEPO4MQGBWJ0RkEcK7hcfgmB7xqVNH](https://drive.google.com/drive/u/1/folders/16ZpEPO4MQGBWJ0RkEcK7hcfgmB7xqVNH)  \n",
        "**Alasan saya buat ini**:\n",
        "Saya malas nulis manual dan cari manual di kertas, sepertinya akan jauh lebih ringkas jika saya membuat kodenya saja. Sekalian belajar koding. Disini saya buat fungsi, yaitu fungsi Entropi dan fungsi Gain. Menyesuaikan yang ada di PDF rumusnya. Kedua fungsi nantinya berguna untuk menampilkan step-by-step langkah yang tidak dijabarkan dalam PDF.\n",
        "\n",
        "*Gunakan daftar isi untuk mempermudah Anda dalam membaca*"
      ],
      "metadata": {
        "id": "3I9J6p6mYkis"
      }
    },
    {
      "cell_type": "markdown",
      "source": [
        "# Fungsi"
      ],
      "metadata": {
        "id": "ysEwzF7VJ64l"
      }
    },
    {
      "cell_type": "markdown",
      "source": [
        "## Entropi\n"
      ],
      "metadata": {
        "id": "P4tOHWrjJ9PR"
      }
    },
    {
      "cell_type": "markdown",
      "source": [
        "![image.png](data:image/png;base64,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)"
      ],
      "metadata": {
        "id": "56PWECe3GYYK"
      }
    },
    {
      "cell_type": "code",
      "source": [
        "import math\n",
        "\n",
        "def entropy(klasifikasi, step=False):\n",
        "    \"\"\"\n",
        "    Fungsi untuk menampilkan proses pencarian entropi\n",
        "    params:\n",
        "    - step = False (default), ya/tidak untuk mengeluarkan langkah demi langkah\n",
        "    parameter ini membantu untuk menghitung nanti dalam fungsi gain()\n",
        "    - kumpulan angka yang pengen dicari (list)\n",
        "    \"\"\"\n",
        "    length = len(klasifikasi)\n",
        "    total = sum(klasifikasi)\n",
        "\n",
        "    if 0 in klasifikasi:\n",
        "        if step==True:\n",
        "            print('Karena ada 0 di dalam klasifikasi, maka entropy = 0')\n",
        "        return 0\n",
        "\n",
        "    if step==False:\n",
        "        total_i = 0\n",
        "        for num in klasifikasi:\n",
        "            division = num/total\n",
        "            result = (division*(math.log(division)/(math.log(2))))*(-1)\n",
        "            total_i += result\n",
        "        return total_i\n",
        "\n",
        "    #############\n",
        "    # kode bawah tereksekusi jika step=True\n",
        "    #############\n",
        "\n",
        "    # proses 0\n",
        "    print(f'Entropi({list(klasifikasi)})')\n",
        "\n",
        "    # proses 1 - penampilan iniasi fungsi\n",
        "    list_str_1 = []\n",
        "    list_num_1 = []\n",
        "    for num in klasifikasi:\n",
        "        str_1 = f\"- ({num}/{total})log2({num}/{total})\"\n",
        "        list_str_1.append(str_1)\n",
        "    print(f\"= {' '.join(str(item) for item in list_str_1)}\")\n",
        "\n",
        "    # Proses 2\n",
        "    list_str_2 = []\n",
        "    for num in klasifikasi:\n",
        "        division = num/total\n",
        "        str_2 = f\"- ({division:.3f})((log({num}/{total}))/log(2))\"\n",
        "        list_str_2.append(str_2)\n",
        "    print(f\"= {' '.join(str(item) for item in list_str_2)}\")\n",
        "\n",
        "    # Proses 3\n",
        "    list_str_3 = []\n",
        "    for num in klasifikasi:\n",
        "        division = num/total\n",
        "        str_3 = f\"- ({division:.3f})({(math.log(division)):.3f}/{(math.log(2)):.3f})\"\n",
        "        list_str_3.append(str_3)\n",
        "    print(f\"= {' '.join(str(item) for item in list_str_3)}\")\n",
        "\n",
        "    # Proses 4\n",
        "    list_str_4 = []\n",
        "    for num in klasifikasi:\n",
        "        division = num/total\n",
        "        str_4 = f\"- ({division:.3f})({(math.log(division)/(math.log(2))):.3f})\"\n",
        "        list_str_4.append(str_4)\n",
        "    print(f\"= {' '.join(str(item) for item in list_str_4)}\")\n",
        "\n",
        "    # Proses 5\n",
        "    list_str_5 = []\n",
        "    result_5 = []\n",
        "    for num in klasifikasi:\n",
        "        division = num/total\n",
        "        result = (division*(math.log(division)/(math.log(2))))*(-1)\n",
        "        str_5 = f\"{result:.3f}\"\n",
        "        list_str_5.append(str_5)\n",
        "        result_5.append(result)\n",
        "    print(f\"= {' + '.join(str(item) for item in list_str_5)}\")\n",
        "\n",
        "    # Proses 6\n",
        "    print(f\"= {(sum(result_5)):.3f}\")"
      ],
      "metadata": {
        "id": "Vlg4GGp8ZXw9"
      },
      "execution_count": null,
      "outputs": []
    },
    {
      "cell_type": "code",
      "source": [
        "# Contoh Penggunaan\n",
        "entropy([9,5],True)"
      ],
      "metadata": {
        "colab": {
          "base_uri": "https://localhost:8080/"
        },
        "id": "m2GN3Xz1bx30",
        "outputId": "2ea0dca7-a1e1-47c7-ada2-fa01475b59db"
      },
      "execution_count": null,
      "outputs": [
        {
          "output_type": "stream",
          "name": "stdout",
          "text": [
            "Entropi([9, 5])\n",
            "= - (9/14)log2(9/14) - (5/14)log2(5/14)\n",
            "= - (0.643)((log(9/14))/log(2)) - (0.357)((log(5/14))/log(2))\n",
            "= - (0.643)(-0.442/0.693) - (0.357)(-1.030/0.693)\n",
            "= - (0.643)(-0.637) - (0.357)(-1.485)\n",
            "= 0.410 + 0.531\n",
            "= 0.940\n"
          ]
        }
      ]
    },
    {
      "cell_type": "code",
      "source": [
        "# Contoh Penggunaan\n",
        "entropy([5,4])"
      ],
      "metadata": {
        "colab": {
          "base_uri": "https://localhost:8080/"
        },
        "id": "d3YGEhOSVFMJ",
        "outputId": "0289aea0-8b8f-4834-b8bb-7d2a305e6e92"
      },
      "execution_count": null,
      "outputs": [
        {
          "output_type": "execute_result",
          "data": {
            "text/plain": [
              "0.9910760598382222"
            ]
          },
          "metadata": {},
          "execution_count": 121
        }
      ]
    },
    {
      "cell_type": "markdown",
      "source": [
        "## Gain"
      ],
      "metadata": {
        "id": "0E9sx4tTKDil"
      }
    },
    {
      "cell_type": "markdown",
      "source": [
        "![image.png](data:image/png;base64,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)"
      ],
      "metadata": {
        "id": "P051WzBiGoj2"
      }
    },
    {
      "cell_type": "code",
      "source": [
        "def gain(S, A, step=False):\n",
        "    \"\"\"\n",
        "    Fungsi untuk mencari gain dengan input klasifikasi tertentu\n",
        "    params:\n",
        "    - S: (list) klasifikasi untuk entropi utama\n",
        "    - A: (nested list) klasifikasi untuk setiap jenis klasifikasi untuk entropi utama\n",
        "    - step: untuk mengeluarkan output step-by-step\n",
        "    \"\"\"\n",
        "    #############################################\n",
        "    # Manajemen Eror jika total S dan total A tidak sama\n",
        "    #############################################\n",
        "    total_S = sum(S)\n",
        "    total_A = 0\n",
        "    for a in A:\n",
        "        tot_a = sum(a)\n",
        "        total_A += tot_a\n",
        "    if total_S != total_A:\n",
        "        print(\"total klasifikasi S dan A tidak sama\")\n",
        "        return\n",
        "    #############################################\n",
        "    # Langsung dihitung tanpa ada tampilan\n",
        "    #############################################\n",
        "    if step==False:\n",
        "        total_result = 0\n",
        "        entropi_S = entropy(S)\n",
        "        entropi_list = []\n",
        "        total_result = entropi_S\n",
        "        for klasifikasi in A:\n",
        "            tot_klasifikasi = sum(klasifikasi)\n",
        "            entropi_sementara = entropy(klasifikasi)\n",
        "            entropi_list.append(entropi_sementara)\n",
        "            result_rasio = (tot_klasifikasi/total_S)*entropi_sementara\n",
        "            total_result -= result_rasio\n",
        "        return total_result\n",
        "    #############################################\n",
        "    # Menampilkan langkah demi langkah penghitungan\n",
        "    #############################################\n",
        "    ##### proses 0 gain()\n",
        "    i = 1\n",
        "    list_proses0 = ['Entropy(S)']\n",
        "    list_namaA = []\n",
        "    for klasifikasi in A:\n",
        "        namaA = f\"A{i}\"\n",
        "        list_namaA.append(namaA)\n",
        "        str_proses0 = f\"- ({sum(klasifikasi)}/{total_S})Entropy({namaA})\"\n",
        "        i += 1\n",
        "        list_proses0.append(str_proses0)\n",
        "    print(f\"Gain(S,A) = {' '.join(str(item) for item in list_proses0)}\")\n",
        "    print() # untuk spasi\n",
        "\n",
        "    ##### proses entropy(S)\n",
        "    print(\"Entropy(S)\")\n",
        "    entropy(S,True)\n",
        "    print()\n",
        "\n",
        "    ##### proses entropy(A) - For looping\n",
        "    for i in range(len(A)):\n",
        "        print(f\"Entropy({list_namaA[i]})\")\n",
        "        entropy(A[i],True)\n",
        "        print()\n",
        "\n",
        "    ##### proses 1 gain()\n",
        "    print(f\"Gain(S,A)\")\n",
        "    print(f\"= {' '.join(str(item) for item in list_proses0)}\")\n",
        "\n",
        "    ##### proses 2 gain()\n",
        "    list_str_2 = []\n",
        "    for kl_A in A:\n",
        "        # entropyA = (sum(kl_A)/sum(S))*entropy(kl_A)\n",
        "        entropyA = entropy(kl_A)\n",
        "        str_proses2 = f\"- ({(sum(kl_A)/sum(S)):.3f})({entropyA:.3f})\"\n",
        "        list_str_2.append(str_proses2)\n",
        "    print(f\"= {entropy(S):.3f} {' '.join(str(item) for item in list_str_2)}\")\n",
        "\n",
        "    ##### proses 3 gain()\n",
        "    list_str_3 = []\n",
        "    for kl_A in A:\n",
        "        rasio_entropy = (sum(kl_A)/sum(S))*entropy(kl_A)\n",
        "        str_proses3 = f\"- {rasio_entropy:.3f}\"\n",
        "        list_str_3.append(str_proses3)\n",
        "    print(f\"= {entropy(S):.3f} {' '.join(str(item) for item in list_str_3)}\")\n",
        "\n",
        "    ##### proses 4 gain()\n",
        "    total_result = 0\n",
        "    entropi_S = entropy(S)\n",
        "    entropi_list = []\n",
        "    total_result = entropi_S\n",
        "    for klasifikasi in A:\n",
        "        tot_klasifikasi = sum(klasifikasi)\n",
        "        entropi_sementara = entropy(klasifikasi)\n",
        "        entropi_list.append(entropi_sementara)\n",
        "        result_rasio = (tot_klasifikasi/total_S)*entropi_sementara\n",
        "        total_result -= result_rasio\n",
        "    print(f\"= {total_result:.5f}\")"
      ],
      "metadata": {
        "id": "3poE6n0u8Tru"
      },
      "execution_count": null,
      "outputs": []
    },
    {
      "cell_type": "code",
      "source": [
        "# Contoh penggunaan\n",
        "gain([9,5], [[6,2], [3,3]], True)"
      ],
      "metadata": {
        "id": "tK0WvDRfh3oI",
        "colab": {
          "base_uri": "https://localhost:8080/"
        },
        "outputId": "a9827fc8-c65f-4a0d-d77f-fb0ac3f2ead6"
      },
      "execution_count": null,
      "outputs": [
        {
          "output_type": "stream",
          "name": "stdout",
          "text": [
            "Gain(S,A) = Entropy(S) - (8/14)Entropy(A1) - (6/14)Entropy(A2)\n",
            "\n",
            "Entropy(S)\n",
            "Entropi([9, 5])\n",
            "= - (9/14)log2(9/14) - (5/14)log2(5/14)\n",
            "= - (0.643)((log(9/14))/log(2)) - (0.357)((log(5/14))/log(2))\n",
            "= - (0.643)(-0.442/0.693) - (0.357)(-1.030/0.693)\n",
            "= - (0.643)(-0.637) - (0.357)(-1.485)\n",
            "= 0.410 + 0.531\n",
            "= 0.940\n",
            "\n",
            "Entropy(A1)\n",
            "Entropi([6, 2])\n",
            "= - (6/8)log2(6/8) - (2/8)log2(2/8)\n",
            "= - (0.750)((log(6/8))/log(2)) - (0.250)((log(2/8))/log(2))\n",
            "= - (0.750)(-0.288/0.693) - (0.250)(-1.386/0.693)\n",
            "= - (0.750)(-0.415) - (0.250)(-2.000)\n",
            "= 0.311 + 0.500\n",
            "= 0.811\n",
            "\n",
            "Entropy(A2)\n",
            "Entropi([3, 3])\n",
            "= - (3/6)log2(3/6) - (3/6)log2(3/6)\n",
            "= - (0.500)((log(3/6))/log(2)) - (0.500)((log(3/6))/log(2))\n",
            "= - (0.500)(-0.693/0.693) - (0.500)(-0.693/0.693)\n",
            "= - (0.500)(-1.000) - (0.500)(-1.000)\n",
            "= 0.500 + 0.500\n",
            "= 1.000\n",
            "\n",
            "Gain(S,A)\n",
            "= Entropy(S) - (8/14)Entropy(A1) - (6/14)Entropy(A2)\n",
            "= 0.940 - (0.571)(0.811) - (0.429)(1.000)\n",
            "= 0.940 - 0.464 - 0.429\n",
            "= 0.04813\n"
          ]
        }
      ]
    },
    {
      "cell_type": "code",
      "source": [
        "# Contoh penggunaan\n",
        "gain([9,5], [[6,2], [3,3]])"
      ],
      "metadata": {
        "colab": {
          "base_uri": "https://localhost:8080/"
        },
        "id": "XfFbU5PVnakC",
        "outputId": "fd3e9684-20b1-4521-b495-15f2486b2938"
      },
      "execution_count": null,
      "outputs": [
        {
          "output_type": "execute_result",
          "data": {
            "text/plain": [
              "0.04812703040826932"
            ]
          },
          "metadata": {},
          "execution_count": 124
        }
      ]
    },
    {
      "cell_type": "markdown",
      "source": [
        "# Halaman 2 - Pengenalan fungsi entropi"
      ],
      "metadata": {
        "id": "qLsorNeIAHDa"
      }
    },
    {
      "cell_type": "code",
      "source": [
        "entropy([9,5], True)"
      ],
      "metadata": {
        "colab": {
          "base_uri": "https://localhost:8080/"
        },
        "id": "EIO-eQxb_oql",
        "outputId": "0d035a52-e83f-4d55-ac64-e7c6edecf854"
      },
      "execution_count": null,
      "outputs": [
        {
          "output_type": "stream",
          "name": "stdout",
          "text": [
            "Entropi([9, 5])\n",
            "= - (9/14)log2(9/14) - (5/14)log2(5/14)\n",
            "= - (0.643)((log(9/14))/log(2)) - (0.357)((log(5/14))/log(2))\n",
            "= - (0.643)(-0.442/0.693) - (0.357)(-1.030/0.693)\n",
            "= - (0.643)(-0.637) - (0.357)(-1.485)\n",
            "= 0.410 + 0.531\n",
            "= 0.940\n"
          ]
        }
      ]
    },
    {
      "cell_type": "markdown",
      "source": [
        "# Halaman 3 - Pengenalan fungsi gain\n",
        "S = [9,5]"
      ],
      "metadata": {
        "id": "tSyGYX4WAZx3"
      }
    },
    {
      "cell_type": "markdown",
      "source": [
        "## 1) Values(Angin) = Lemah, Kuat\n",
        "(A1) Slemah = [6,2]  \n",
        "(A2) Skuat = [3,4]"
      ],
      "metadata": {
        "id": "dpyjSIEsAic1"
      }
    },
    {
      "cell_type": "code",
      "source": [
        "gain([9,5], [[6,2], [3,3]], True)"
      ],
      "metadata": {
        "colab": {
          "base_uri": "https://localhost:8080/"
        },
        "id": "QTJJiVaUA6EW",
        "outputId": "ddfdddf5-c0ce-468a-a8da-a929026f7096"
      },
      "execution_count": null,
      "outputs": [
        {
          "output_type": "stream",
          "name": "stdout",
          "text": [
            "Gain(S,A) = Entropy(S) - (8/14)Entropy(A1) - (6/14)Entropy(A2)\n",
            "\n",
            "Entropy(S)\n",
            "Entropi([9, 5])\n",
            "= - (9/14)log2(9/14) - (5/14)log2(5/14)\n",
            "= - (0.643)((log(9/14))/log(2)) - (0.357)((log(5/14))/log(2))\n",
            "= - (0.643)(-0.442/0.693) - (0.357)(-1.030/0.693)\n",
            "= - (0.643)(-0.637) - (0.357)(-1.485)\n",
            "= 0.410 + 0.531\n",
            "= 0.940\n",
            "\n",
            "Entropy(A1)\n",
            "Entropi([6, 2])\n",
            "= - (6/8)log2(6/8) - (2/8)log2(2/8)\n",
            "= - (0.750)((log(6/8))/log(2)) - (0.250)((log(2/8))/log(2))\n",
            "= - (0.750)(-0.288/0.693) - (0.250)(-1.386/0.693)\n",
            "= - (0.750)(-0.415) - (0.250)(-2.000)\n",
            "= 0.311 + 0.500\n",
            "= 0.811\n",
            "\n",
            "Entropy(A2)\n",
            "Entropi([3, 3])\n",
            "= - (3/6)log2(3/6) - (3/6)log2(3/6)\n",
            "= - (0.500)((log(3/6))/log(2)) - (0.500)((log(3/6))/log(2))\n",
            "= - (0.500)(-0.693/0.693) - (0.500)(-0.693/0.693)\n",
            "= - (0.500)(-1.000) - (0.500)(-1.000)\n",
            "= 0.500 + 0.500\n",
            "= 1.000\n",
            "\n",
            "Gain(S,A)\n",
            "= Entropy(S) - (8/14)Entropy(A1) - (6/14)Entropy(A2)\n",
            "= 0.940 - (0.571)(0.811) - (0.429)(1.000)\n",
            "= 0.940 - 0.464 - 0.429\n",
            "= 0.04813\n"
          ]
        }
      ]
    },
    {
      "cell_type": "markdown",
      "source": [
        "## 2) Values(Kelembaban) = Tinggi, Normal\n",
        "(A1) Stinggi = [3,4]  \n",
        "(A2) Snormal = [6,1]"
      ],
      "metadata": {
        "id": "s9HX0NyTBmLG"
      }
    },
    {
      "cell_type": "code",
      "source": [
        "gain([9,5], [[3,4], [6,1]], True)"
      ],
      "metadata": {
        "colab": {
          "base_uri": "https://localhost:8080/"
        },
        "id": "tRr7MWiXA91L",
        "outputId": "0cb285f5-ceb7-4283-87ac-bd8180049b6a"
      },
      "execution_count": null,
      "outputs": [
        {
          "output_type": "stream",
          "name": "stdout",
          "text": [
            "Gain(S,A) = Entropy(S) - (7/14)Entropy(A1) - (7/14)Entropy(A2)\n",
            "\n",
            "Entropy(S)\n",
            "Entropi([9, 5])\n",
            "= - (9/14)log2(9/14) - (5/14)log2(5/14)\n",
            "= - (0.643)((log(9/14))/log(2)) - (0.357)((log(5/14))/log(2))\n",
            "= - (0.643)(-0.442/0.693) - (0.357)(-1.030/0.693)\n",
            "= - (0.643)(-0.637) - (0.357)(-1.485)\n",
            "= 0.410 + 0.531\n",
            "= 0.940\n",
            "\n",
            "Entropy(A1)\n",
            "Entropi([3, 4])\n",
            "= - (3/7)log2(3/7) - (4/7)log2(4/7)\n",
            "= - (0.429)((log(3/7))/log(2)) - (0.571)((log(4/7))/log(2))\n",
            "= - (0.429)(-0.847/0.693) - (0.571)(-0.560/0.693)\n",
            "= - (0.429)(-1.222) - (0.571)(-0.807)\n",
            "= 0.524 + 0.461\n",
            "= 0.985\n",
            "\n",
            "Entropy(A2)\n",
            "Entropi([6, 1])\n",
            "= - (6/7)log2(6/7) - (1/7)log2(1/7)\n",
            "= - (0.857)((log(6/7))/log(2)) - (0.143)((log(1/7))/log(2))\n",
            "= - (0.857)(-0.154/0.693) - (0.143)(-1.946/0.693)\n",
            "= - (0.857)(-0.222) - (0.143)(-2.807)\n",
            "= 0.191 + 0.401\n",
            "= 0.592\n",
            "\n",
            "Gain(S,A)\n",
            "= Entropy(S) - (7/14)Entropy(A1) - (7/14)Entropy(A2)\n",
            "= 0.940 - (0.500)(0.985) - (0.500)(0.592)\n",
            "= 0.940 - 0.493 - 0.296\n",
            "= 0.15184\n"
          ]
        }
      ]
    },
    {
      "cell_type": "markdown",
      "source": [
        "## 3) Values(Suhu) = Panas, Sejuk, Dingin\n",
        "(A1) Spanas = [2,2]  \n",
        "(A2) Ssejuk = [4,2]  \n",
        "(A3) Sdingin = [3, 1]"
      ],
      "metadata": {
        "id": "SuAwY-E5CTT9"
      }
    },
    {
      "cell_type": "code",
      "source": [
        "gain([9,5], [[2,2], [4,2], [3,1]], True)"
      ],
      "metadata": {
        "colab": {
          "base_uri": "https://localhost:8080/"
        },
        "id": "USSs_cy9CObG",
        "outputId": "fcf0994a-e6bf-4501-ac42-ada5d920f7be"
      },
      "execution_count": null,
      "outputs": [
        {
          "output_type": "stream",
          "name": "stdout",
          "text": [
            "Gain(S,A) = Entropy(S) - (4/14)Entropy(A1) - (6/14)Entropy(A2) - (4/14)Entropy(A3)\n",
            "\n",
            "Entropy(S)\n",
            "Entropi([9, 5])\n",
            "= - (9/14)log2(9/14) - (5/14)log2(5/14)\n",
            "= - (0.643)((log(9/14))/log(2)) - (0.357)((log(5/14))/log(2))\n",
            "= - (0.643)(-0.442/0.693) - (0.357)(-1.030/0.693)\n",
            "= - (0.643)(-0.637) - (0.357)(-1.485)\n",
            "= 0.410 + 0.531\n",
            "= 0.940\n",
            "\n",
            "Entropy(A1)\n",
            "Entropi([2, 2])\n",
            "= - (2/4)log2(2/4) - (2/4)log2(2/4)\n",
            "= - (0.500)((log(2/4))/log(2)) - (0.500)((log(2/4))/log(2))\n",
            "= - (0.500)(-0.693/0.693) - (0.500)(-0.693/0.693)\n",
            "= - (0.500)(-1.000) - (0.500)(-1.000)\n",
            "= 0.500 + 0.500\n",
            "= 1.000\n",
            "\n",
            "Entropy(A2)\n",
            "Entropi([4, 2])\n",
            "= - (4/6)log2(4/6) - (2/6)log2(2/6)\n",
            "= - (0.667)((log(4/6))/log(2)) - (0.333)((log(2/6))/log(2))\n",
            "= - (0.667)(-0.405/0.693) - (0.333)(-1.099/0.693)\n",
            "= - (0.667)(-0.585) - (0.333)(-1.585)\n",
            "= 0.390 + 0.528\n",
            "= 0.918\n",
            "\n",
            "Entropy(A3)\n",
            "Entropi([3, 1])\n",
            "= - (3/4)log2(3/4) - (1/4)log2(1/4)\n",
            "= - (0.750)((log(3/4))/log(2)) - (0.250)((log(1/4))/log(2))\n",
            "= - (0.750)(-0.288/0.693) - (0.250)(-1.386/0.693)\n",
            "= - (0.750)(-0.415) - (0.250)(-2.000)\n",
            "= 0.311 + 0.500\n",
            "= 0.811\n",
            "\n",
            "Gain(S,A)\n",
            "= Entropy(S) - (4/14)Entropy(A1) - (6/14)Entropy(A2) - (4/14)Entropy(A3)\n",
            "= 0.940 - (0.286)(1.000) - (0.429)(0.918) - (0.286)(0.811)\n",
            "= 0.940 - 0.286 - 0.394 - 0.232\n",
            "= 0.02922\n"
          ]
        }
      ]
    },
    {
      "cell_type": "markdown",
      "source": [
        "## 4) Values(Suhu) = Cerah, Mendung, Hujan\n",
        "(A1) Scerah = [2,3]  \n",
        "(A2) Smendung = [4,0]  \n",
        "(A3) Shujan = [3,2]"
      ],
      "metadata": {
        "id": "786ab-kRC7vH"
      }
    },
    {
      "cell_type": "code",
      "source": [
        "gain([9,5], [[2,3], [4,0], [3,2]], True)"
      ],
      "metadata": {
        "colab": {
          "base_uri": "https://localhost:8080/"
        },
        "id": "CCAlKRMfCsz6",
        "outputId": "0661cd78-49e6-45a9-df3f-4fc2c9ed1570"
      },
      "execution_count": null,
      "outputs": [
        {
          "output_type": "stream",
          "name": "stdout",
          "text": [
            "Gain(S,A) = Entropy(S) - (5/14)Entropy(A1) - (4/14)Entropy(A2) - (5/14)Entropy(A3)\n",
            "\n",
            "Entropy(S)\n",
            "Entropi([9, 5])\n",
            "= - (9/14)log2(9/14) - (5/14)log2(5/14)\n",
            "= - (0.643)((log(9/14))/log(2)) - (0.357)((log(5/14))/log(2))\n",
            "= - (0.643)(-0.442/0.693) - (0.357)(-1.030/0.693)\n",
            "= - (0.643)(-0.637) - (0.357)(-1.485)\n",
            "= 0.410 + 0.531\n",
            "= 0.940\n",
            "\n",
            "Entropy(A1)\n",
            "Entropi([2, 3])\n",
            "= - (2/5)log2(2/5) - (3/5)log2(3/5)\n",
            "= - (0.400)((log(2/5))/log(2)) - (0.600)((log(3/5))/log(2))\n",
            "= - (0.400)(-0.916/0.693) - (0.600)(-0.511/0.693)\n",
            "= - (0.400)(-1.322) - (0.600)(-0.737)\n",
            "= 0.529 + 0.442\n",
            "= 0.971\n",
            "\n",
            "Entropy(A2)\n",
            "Karena ada 0 di dalam klasifikasi, maka entropy = 0\n",
            "\n",
            "Entropy(A3)\n",
            "Entropi([3, 2])\n",
            "= - (3/5)log2(3/5) - (2/5)log2(2/5)\n",
            "= - (0.600)((log(3/5))/log(2)) - (0.400)((log(2/5))/log(2))\n",
            "= - (0.600)(-0.511/0.693) - (0.400)(-0.916/0.693)\n",
            "= - (0.600)(-0.737) - (0.400)(-1.322)\n",
            "= 0.442 + 0.529\n",
            "= 0.971\n",
            "\n",
            "Gain(S,A)\n",
            "= Entropy(S) - (5/14)Entropy(A1) - (4/14)Entropy(A2) - (5/14)Entropy(A3)\n",
            "= 0.940 - (0.357)(0.971) - (0.286)(0.000) - (0.357)(0.971)\n",
            "= 0.940 - 0.347 - 0.000 - 0.347\n",
            "= 0.24675\n"
          ]
        }
      ]
    },
    {
      "cell_type": "markdown",
      "source": [
        "# Halaman 4 - node cabang Ramalan_Cuaca = Cerah\n",
        "S = [2,3]"
      ],
      "metadata": {
        "id": "k_y3VwjCD8Y9"
      }
    },
    {
      "cell_type": "markdown",
      "source": [
        "## 1) Values(Suhu) = Panas, Sejuk, Dingin\n",
        "(A1) Spanas = [0,2]  \n",
        "(A2) Ssejuk = [1,1]  \n",
        "(A3) Sdingin = [1, 0]"
      ],
      "metadata": {
        "id": "U7jTDWArFs5W"
      }
    },
    {
      "cell_type": "code",
      "source": [
        "gain([2,3], [[0,2], [1,1], [1,0]], True)"
      ],
      "metadata": {
        "colab": {
          "base_uri": "https://localhost:8080/"
        },
        "id": "56yXmsnfIDZW",
        "outputId": "73e0221b-90b5-41f3-e272-fe1ce07f73d6"
      },
      "execution_count": null,
      "outputs": [
        {
          "output_type": "stream",
          "name": "stdout",
          "text": [
            "Gain(S,A) = Entropy(S) - (2/5)Entropy(A1) - (2/5)Entropy(A2) - (1/5)Entropy(A3)\n",
            "\n",
            "Entropy(S)\n",
            "Entropi([2, 3])\n",
            "= - (2/5)log2(2/5) - (3/5)log2(3/5)\n",
            "= - (0.400)((log(2/5))/log(2)) - (0.600)((log(3/5))/log(2))\n",
            "= - (0.400)(-0.916/0.693) - (0.600)(-0.511/0.693)\n",
            "= - (0.400)(-1.322) - (0.600)(-0.737)\n",
            "= 0.529 + 0.442\n",
            "= 0.971\n",
            "\n",
            "Entropy(A1)\n",
            "Karena ada 0 di dalam klasifikasi, maka entropy = 0\n",
            "\n",
            "Entropy(A2)\n",
            "Entropi([1, 1])\n",
            "= - (1/2)log2(1/2) - (1/2)log2(1/2)\n",
            "= - (0.500)((log(1/2))/log(2)) - (0.500)((log(1/2))/log(2))\n",
            "= - (0.500)(-0.693/0.693) - (0.500)(-0.693/0.693)\n",
            "= - (0.500)(-1.000) - (0.500)(-1.000)\n",
            "= 0.500 + 0.500\n",
            "= 1.000\n",
            "\n",
            "Entropy(A3)\n",
            "Karena ada 0 di dalam klasifikasi, maka entropy = 0\n",
            "\n",
            "Gain(S,A)\n",
            "= Entropy(S) - (2/5)Entropy(A1) - (2/5)Entropy(A2) - (1/5)Entropy(A3)\n",
            "= 0.971 - (0.400)(0.000) - (0.400)(1.000) - (0.200)(0.000)\n",
            "= 0.971 - 0.000 - 0.400 - 0.000\n",
            "= 0.57095\n"
          ]
        }
      ]
    },
    {
      "cell_type": "markdown",
      "source": [
        "## 2) Values(Kelembaban) = Tinggi, Normal\n",
        "(A1) Stinggi = [0,3]  \n",
        "(A2) Snormal = [2,0]"
      ],
      "metadata": {
        "id": "LufDjQszF3p-"
      }
    },
    {
      "cell_type": "code",
      "source": [
        "gain([2,3], [[0,3], [2,0]], True)"
      ],
      "metadata": {
        "colab": {
          "base_uri": "https://localhost:8080/"
        },
        "id": "9mPYMLCJI9Fw",
        "outputId": "d826f732-d537-4271-8a73-64c953d343ac"
      },
      "execution_count": null,
      "outputs": [
        {
          "output_type": "stream",
          "name": "stdout",
          "text": [
            "Gain(S,A) = Entropy(S) - (3/5)Entropy(A1) - (2/5)Entropy(A2)\n",
            "\n",
            "Entropy(S)\n",
            "Entropi([2, 3])\n",
            "= - (2/5)log2(2/5) - (3/5)log2(3/5)\n",
            "= - (0.400)((log(2/5))/log(2)) - (0.600)((log(3/5))/log(2))\n",
            "= - (0.400)(-0.916/0.693) - (0.600)(-0.511/0.693)\n",
            "= - (0.400)(-1.322) - (0.600)(-0.737)\n",
            "= 0.529 + 0.442\n",
            "= 0.971\n",
            "\n",
            "Entropy(A1)\n",
            "Karena ada 0 di dalam klasifikasi, maka entropy = 0\n",
            "\n",
            "Entropy(A2)\n",
            "Karena ada 0 di dalam klasifikasi, maka entropy = 0\n",
            "\n",
            "Gain(S,A)\n",
            "= Entropy(S) - (3/5)Entropy(A1) - (2/5)Entropy(A2)\n",
            "= 0.971 - (0.600)(0.000) - (0.400)(0.000)\n",
            "= 0.971 - 0.000 - 0.000\n",
            "= 0.97095\n"
          ]
        }
      ]
    },
    {
      "cell_type": "markdown",
      "source": [
        "## 3) Values(Angin) = Lemah, Kuat\n",
        "(A1) Slemah = [1,2]  \n",
        "(A2) Skuat = [1,1]"
      ],
      "metadata": {
        "id": "svSfc1-oF-j3"
      }
    },
    {
      "cell_type": "code",
      "source": [
        "gain([2,3], [[1,2], [1,1]], True)"
      ],
      "metadata": {
        "colab": {
          "base_uri": "https://localhost:8080/"
        },
        "id": "hJ_keDDPJJKG",
        "outputId": "d1ebb2eb-6139-47cf-c748-049292398763"
      },
      "execution_count": null,
      "outputs": [
        {
          "output_type": "stream",
          "name": "stdout",
          "text": [
            "Gain(S,A) = Entropy(S) - (3/5)Entropy(A1) - (2/5)Entropy(A2)\n",
            "\n",
            "Entropy(S)\n",
            "Entropi([2, 3])\n",
            "= - (2/5)log2(2/5) - (3/5)log2(3/5)\n",
            "= - (0.400)((log(2/5))/log(2)) - (0.600)((log(3/5))/log(2))\n",
            "= - (0.400)(-0.916/0.693) - (0.600)(-0.511/0.693)\n",
            "= - (0.400)(-1.322) - (0.600)(-0.737)\n",
            "= 0.529 + 0.442\n",
            "= 0.971\n",
            "\n",
            "Entropy(A1)\n",
            "Entropi([1, 2])\n",
            "= - (1/3)log2(1/3) - (2/3)log2(2/3)\n",
            "= - (0.333)((log(1/3))/log(2)) - (0.667)((log(2/3))/log(2))\n",
            "= - (0.333)(-1.099/0.693) - (0.667)(-0.405/0.693)\n",
            "= - (0.333)(-1.585) - (0.667)(-0.585)\n",
            "= 0.528 + 0.390\n",
            "= 0.918\n",
            "\n",
            "Entropy(A2)\n",
            "Entropi([1, 1])\n",
            "= - (1/2)log2(1/2) - (1/2)log2(1/2)\n",
            "= - (0.500)((log(1/2))/log(2)) - (0.500)((log(1/2))/log(2))\n",
            "= - (0.500)(-0.693/0.693) - (0.500)(-0.693/0.693)\n",
            "= - (0.500)(-1.000) - (0.500)(-1.000)\n",
            "= 0.500 + 0.500\n",
            "= 1.000\n",
            "\n",
            "Gain(S,A)\n",
            "= Entropy(S) - (3/5)Entropy(A1) - (2/5)Entropy(A2)\n",
            "= 0.971 - (0.600)(0.918) - (0.400)(1.000)\n",
            "= 0.971 - 0.551 - 0.400\n",
            "= 0.01997\n"
          ]
        }
      ]
    },
    {
      "cell_type": "markdown",
      "source": [
        "# Halaman 5 - node cabang Ramalan_Cuaca = Hujan\n",
        "Shujan = [3,2]"
      ],
      "metadata": {
        "id": "_tGRytlEEZ9_"
      }
    },
    {
      "cell_type": "markdown",
      "source": [
        "## 1) Values(Suhu) = Panas, Sejuk, Dingin\n",
        "(A1) Spanas = [0,0]  \n",
        "(A2) Ssejuk = [2,1]  \n",
        "(A3) Sdingin = [1, 1]"
      ],
      "metadata": {
        "id": "9QB0ZE-aGFXc"
      }
    },
    {
      "cell_type": "code",
      "source": [
        "gain([3,2], [[0,0], [2,1], [1,1]], True)"
      ],
      "metadata": {
        "colab": {
          "base_uri": "https://localhost:8080/"
        },
        "id": "4JIWCxZUJQKU",
        "outputId": "4342eb0a-9a0a-4218-ef5b-2ec8e94c008d"
      },
      "execution_count": null,
      "outputs": [
        {
          "output_type": "stream",
          "name": "stdout",
          "text": [
            "Gain(S,A) = Entropy(S) - (0/5)Entropy(A1) - (3/5)Entropy(A2) - (2/5)Entropy(A3)\n",
            "\n",
            "Entropy(S)\n",
            "Entropi([3, 2])\n",
            "= - (3/5)log2(3/5) - (2/5)log2(2/5)\n",
            "= - (0.600)((log(3/5))/log(2)) - (0.400)((log(2/5))/log(2))\n",
            "= - (0.600)(-0.511/0.693) - (0.400)(-0.916/0.693)\n",
            "= - (0.600)(-0.737) - (0.400)(-1.322)\n",
            "= 0.442 + 0.529\n",
            "= 0.971\n",
            "\n",
            "Entropy(A1)\n",
            "Karena ada 0 di dalam klasifikasi, maka entropy = 0\n",
            "\n",
            "Entropy(A2)\n",
            "Entropi([2, 1])\n",
            "= - (2/3)log2(2/3) - (1/3)log2(1/3)\n",
            "= - (0.667)((log(2/3))/log(2)) - (0.333)((log(1/3))/log(2))\n",
            "= - (0.667)(-0.405/0.693) - (0.333)(-1.099/0.693)\n",
            "= - (0.667)(-0.585) - (0.333)(-1.585)\n",
            "= 0.390 + 0.528\n",
            "= 0.918\n",
            "\n",
            "Entropy(A3)\n",
            "Entropi([1, 1])\n",
            "= - (1/2)log2(1/2) - (1/2)log2(1/2)\n",
            "= - (0.500)((log(1/2))/log(2)) - (0.500)((log(1/2))/log(2))\n",
            "= - (0.500)(-0.693/0.693) - (0.500)(-0.693/0.693)\n",
            "= - (0.500)(-1.000) - (0.500)(-1.000)\n",
            "= 0.500 + 0.500\n",
            "= 1.000\n",
            "\n",
            "Gain(S,A)\n",
            "= Entropy(S) - (0/5)Entropy(A1) - (3/5)Entropy(A2) - (2/5)Entropy(A3)\n",
            "= 0.971 - (0.000)(0.000) - (0.600)(0.918) - (0.400)(1.000)\n",
            "= 0.971 - 0.000 - 0.551 - 0.400\n",
            "= 0.01997\n"
          ]
        }
      ]
    },
    {
      "cell_type": "markdown",
      "source": [
        "## 2) Values(Kelembaban) = Tinggi, Normal\n",
        "(A1) Stinggi = [1,1]  \n",
        "(A2) Snormal = [2,1]"
      ],
      "metadata": {
        "id": "Nr7RwgiUGFXd"
      }
    },
    {
      "cell_type": "code",
      "source": [
        "gain([3,2], [[1,1], [2,1]], True)"
      ],
      "metadata": {
        "colab": {
          "base_uri": "https://localhost:8080/"
        },
        "id": "cnCvHHyOJYVa",
        "outputId": "92689775-1965-40f2-bfec-fccbdc77c661"
      },
      "execution_count": null,
      "outputs": [
        {
          "output_type": "stream",
          "name": "stdout",
          "text": [
            "Gain(S,A) = Entropy(S) - (2/5)Entropy(A1) - (3/5)Entropy(A2)\n",
            "\n",
            "Entropy(S)\n",
            "Entropi([3, 2])\n",
            "= - (3/5)log2(3/5) - (2/5)log2(2/5)\n",
            "= - (0.600)((log(3/5))/log(2)) - (0.400)((log(2/5))/log(2))\n",
            "= - (0.600)(-0.511/0.693) - (0.400)(-0.916/0.693)\n",
            "= - (0.600)(-0.737) - (0.400)(-1.322)\n",
            "= 0.442 + 0.529\n",
            "= 0.971\n",
            "\n",
            "Entropy(A1)\n",
            "Entropi([1, 1])\n",
            "= - (1/2)log2(1/2) - (1/2)log2(1/2)\n",
            "= - (0.500)((log(1/2))/log(2)) - (0.500)((log(1/2))/log(2))\n",
            "= - (0.500)(-0.693/0.693) - (0.500)(-0.693/0.693)\n",
            "= - (0.500)(-1.000) - (0.500)(-1.000)\n",
            "= 0.500 + 0.500\n",
            "= 1.000\n",
            "\n",
            "Entropy(A2)\n",
            "Entropi([2, 1])\n",
            "= - (2/3)log2(2/3) - (1/3)log2(1/3)\n",
            "= - (0.667)((log(2/3))/log(2)) - (0.333)((log(1/3))/log(2))\n",
            "= - (0.667)(-0.405/0.693) - (0.333)(-1.099/0.693)\n",
            "= - (0.667)(-0.585) - (0.333)(-1.585)\n",
            "= 0.390 + 0.528\n",
            "= 0.918\n",
            "\n",
            "Gain(S,A)\n",
            "= Entropy(S) - (2/5)Entropy(A1) - (3/5)Entropy(A2)\n",
            "= 0.971 - (0.400)(1.000) - (0.600)(0.918)\n",
            "= 0.971 - 0.400 - 0.551\n",
            "= 0.01997\n"
          ]
        }
      ]
    },
    {
      "cell_type": "markdown",
      "source": [
        "## 3) Values(Angin) = Lemah, Kuat\n",
        "(A1) Slemah = [3,0]  \n",
        "(A2) Skuat = [0,2]"
      ],
      "metadata": {
        "id": "IxEs17YIGFXd"
      }
    },
    {
      "cell_type": "code",
      "source": [
        "gain([3,2], [[3,0], [0,2]], True)"
      ],
      "metadata": {
        "colab": {
          "base_uri": "https://localhost:8080/"
        },
        "id": "sgDL8ehBJdSP",
        "outputId": "6849218e-a91e-4df7-972e-531bc7a4aab2"
      },
      "execution_count": null,
      "outputs": [
        {
          "output_type": "stream",
          "name": "stdout",
          "text": [
            "Gain(S,A) = Entropy(S) - (3/5)Entropy(A1) - (2/5)Entropy(A2)\n",
            "\n",
            "Entropy(S)\n",
            "Entropi([3, 2])\n",
            "= - (3/5)log2(3/5) - (2/5)log2(2/5)\n",
            "= - (0.600)((log(3/5))/log(2)) - (0.400)((log(2/5))/log(2))\n",
            "= - (0.600)(-0.511/0.693) - (0.400)(-0.916/0.693)\n",
            "= - (0.600)(-0.737) - (0.400)(-1.322)\n",
            "= 0.442 + 0.529\n",
            "= 0.971\n",
            "\n",
            "Entropy(A1)\n",
            "Karena ada 0 di dalam klasifikasi, maka entropy = 0\n",
            "\n",
            "Entropy(A2)\n",
            "Karena ada 0 di dalam klasifikasi, maka entropy = 0\n",
            "\n",
            "Gain(S,A)\n",
            "= Entropy(S) - (3/5)Entropy(A1) - (2/5)Entropy(A2)\n",
            "= 0.971 - (0.600)(0.000) - (0.400)(0.000)\n",
            "= 0.971 - 0.000 - 0.000\n",
            "= 0.97095\n"
          ]
        }
      ]
    },
    {
      "cell_type": "markdown",
      "source": [
        "# Tambahan - node cabang Ramalan_Cuaca = Mendung\n",
        "*di pdf tidak ada, makanya saya tambahkan sendiri*\n",
        "\n",
        "Smendung = [12,0]   \n",
        "-> Tidak mungkn karena nanti nilai gain akan kurang dari 0 dikarenakan entropy(S) akan bernilai 0. Smendung mengandung 0 di dalamnya. Tapi akan tetap kita cek. Kemungkinan ga bakal keluar caranya karena semua tidak ada sentimen lain."
      ],
      "metadata": {
        "id": "NQGWUY0cEmII"
      }
    },
    {
      "cell_type": "markdown",
      "source": [
        "## 1) Values(Suhu) = Panas, Sejuk, Dingin\n",
        "(A1) Spanas = [4,0]  \n",
        "(A2) Ssejuk = [4,0]  \n",
        "(A3) Sdingin = [4, 0]"
      ],
      "metadata": {
        "id": "bJ_Hh3wvGHKs"
      }
    },
    {
      "cell_type": "code",
      "source": [
        "gain([12,0], [[4,0], [4,0], [4,0]], True)"
      ],
      "metadata": {
        "colab": {
          "base_uri": "https://localhost:8080/"
        },
        "id": "jA7YAz7cJ85Q",
        "outputId": "174eefdd-6765-4e36-8474-29588cf65b7c"
      },
      "execution_count": null,
      "outputs": [
        {
          "output_type": "stream",
          "name": "stdout",
          "text": [
            "Gain(S,A) = Entropy(S) - (4/12)Entropy(A1) - (4/12)Entropy(A2) - (4/12)Entropy(A3)\n",
            "\n",
            "Entropy(S)\n",
            "Karena ada 0 di dalam klasifikasi, maka entropy = 0\n",
            "\n",
            "Entropy(A1)\n",
            "Karena ada 0 di dalam klasifikasi, maka entropy = 0\n",
            "\n",
            "Entropy(A2)\n",
            "Karena ada 0 di dalam klasifikasi, maka entropy = 0\n",
            "\n",
            "Entropy(A3)\n",
            "Karena ada 0 di dalam klasifikasi, maka entropy = 0\n",
            "\n",
            "Gain(S,A)\n",
            "= Entropy(S) - (4/12)Entropy(A1) - (4/12)Entropy(A2) - (4/12)Entropy(A3)\n",
            "= 0.000 - (0.333)(0.000) - (0.333)(0.000) - (0.333)(0.000)\n",
            "= 0.000 - 0.000 - 0.000 - 0.000\n",
            "= 0.00000\n"
          ]
        }
      ]
    },
    {
      "cell_type": "markdown",
      "source": [
        "## 2) Values(Kelembaban) = Tinggi, Normal\n",
        "(A1) Stinggi = [6,0]  \n",
        "(A2) Snormal = [6,0]"
      ],
      "metadata": {
        "id": "-wzgxC5KGHKt"
      }
    },
    {
      "cell_type": "code",
      "source": [
        "gain([12,0], [[6,0], [6,0]], True)"
      ],
      "metadata": {
        "colab": {
          "base_uri": "https://localhost:8080/"
        },
        "id": "HfRhYdJxLhta",
        "outputId": "f77d1eee-bb21-42af-bb66-663931905ba4"
      },
      "execution_count": null,
      "outputs": [
        {
          "output_type": "stream",
          "name": "stdout",
          "text": [
            "Gain(S,A) = Entropy(S) - (6/12)Entropy(A1) - (6/12)Entropy(A2)\n",
            "\n",
            "Entropy(S)\n",
            "Karena ada 0 di dalam klasifikasi, maka entropy = 0\n",
            "\n",
            "Entropy(A1)\n",
            "Karena ada 0 di dalam klasifikasi, maka entropy = 0\n",
            "\n",
            "Entropy(A2)\n",
            "Karena ada 0 di dalam klasifikasi, maka entropy = 0\n",
            "\n",
            "Gain(S,A)\n",
            "= Entropy(S) - (6/12)Entropy(A1) - (6/12)Entropy(A2)\n",
            "= 0.000 - (0.500)(0.000) - (0.500)(0.000)\n",
            "= 0.000 - 0.000 - 0.000\n",
            "= 0.00000\n"
          ]
        }
      ]
    },
    {
      "cell_type": "markdown",
      "source": [
        "## 3) Values(Angin) = Lemah, Kuat\n",
        "(A1) Slemah = [6,0]  \n",
        "(A2) Skuat = [6,0]"
      ],
      "metadata": {
        "id": "Fm4gCDMNGHKt"
      }
    },
    {
      "cell_type": "code",
      "source": [
        "gain([12,0], [[6,0], [6,0]], True)"
      ],
      "metadata": {
        "colab": {
          "base_uri": "https://localhost:8080/"
        },
        "id": "ahngwL02Lpfr",
        "outputId": "a3396b62-1f4d-462d-d1ce-921b5075b287"
      },
      "execution_count": null,
      "outputs": [
        {
          "output_type": "stream",
          "name": "stdout",
          "text": [
            "Gain(S,A) = Entropy(S) - (6/12)Entropy(A1) - (6/12)Entropy(A2)\n",
            "\n",
            "Entropy(S)\n",
            "Karena ada 0 di dalam klasifikasi, maka entropy = 0\n",
            "\n",
            "Entropy(A1)\n",
            "Karena ada 0 di dalam klasifikasi, maka entropy = 0\n",
            "\n",
            "Entropy(A2)\n",
            "Karena ada 0 di dalam klasifikasi, maka entropy = 0\n",
            "\n",
            "Gain(S,A)\n",
            "= Entropy(S) - (6/12)Entropy(A1) - (6/12)Entropy(A2)\n",
            "= 0.000 - (0.500)(0.000) - (0.500)(0.000)\n",
            "= 0.000 - 0.000 - 0.000\n",
            "= 0.00000\n"
          ]
        }
      ]
    }
  ]
}